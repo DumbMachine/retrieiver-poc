{
 "cells": [
  {
   "cell_type": "markdown",
   "metadata": {},
   "source": [
    "# XML Showcase\n",
    "1. [Data Used](https://catalog.data.gov/dataset/sat-college-board-2010-school-level-results-5c6d6)\n",
    "2. Converting the XML to csv (for storage), with my proposed solution\n",
    "2. Comparing the source provided csv with converted csv"
   ]
  },
  {
   "cell_type": "markdown",
   "metadata": {},
   "source": [
    "# 1. Data"
   ]
  },
  {
   "cell_type": "code",
   "execution_count": 1,
   "metadata": {},
   "outputs": [],
   "source": [
    "import json\n",
    "import pandas as pd"
   ]
  },
  {
   "cell_type": "code",
   "execution_count": 2,
   "metadata": {},
   "outputs": [],
   "source": [
    "import os\n",
    "\n",
    "from bs4 import BeautifulSoup as xml_parser\n",
    "\n",
    "filename = \"xml/sat.xml\"\n",
    "file_stream = open(filename, 'r')\n",
    "\n",
    "content = xml_parser(file_stream.read(), features=\"xml\")\n",
    "script = json.load(open(\"xml/sat.json\"))"
   ]
  },
  {
   "cell_type": "code",
   "execution_count": 3,
   "metadata": {},
   "outputs": [],
   "source": [
    "fields = script['resources'][0]['schema']['fields']"
   ]
  },
  {
   "cell_type": "code",
   "execution_count": 4,
   "metadata": {},
   "outputs": [
    {
     "data": {
      "text/plain": [
       "[{'name': 'DBN', 'source': 'dbn', 'type': 'string'},\n",
       " {'name': 'School Name', 'source': 'school_name', 'type': 'string'},\n",
       " {'name': 'Number of Test Takers',\n",
       "  'source': 'number_of_test_takers',\n",
       "  'type': 'string'},\n",
       " {'name': 'Critical Reading Mean',\n",
       "  'source': 'critical_reading_mean',\n",
       "  'type': 'string'},\n",
       " {'name': 'Mathematics Mean', 'source': 'mathematics_mean', 'type': 'string'},\n",
       " {'name': 'Writing Mean', 'source': 'writing_mean', 'type': 'string'}]"
      ]
     },
     "execution_count": 4,
     "metadata": {},
     "output_type": "execute_result"
    }
   ],
   "source": [
    "fields"
   ]
  },
  {
   "cell_type": "code",
   "execution_count": 5,
   "metadata": {},
   "outputs": [],
   "source": [
    "def check_children_for_fields(tag, fields):\n",
    "    row = {}\n",
    "    for _field in fields:\n",
    "        field = _field['source']\n",
    "        if not tag.findChildren(field):\n",
    "            return None\n",
    "        row[_field['name']] = tag.findChildren(field)[0].text\n",
    "    return row"
   ]
  },
  {
   "cell_type": "code",
   "execution_count": 6,
   "metadata": {},
   "outputs": [],
   "source": [
    "rows = content.find(\"row\")\n",
    "dataset = []\n",
    "for row in content.find_all(\"row\"):\n",
    "    row_data = check_children_for_fields(row, fields)\n",
    "    if row_data:\n",
    "        dataset.append(row_data)"
   ]
  },
  {
   "cell_type": "code",
   "execution_count": 35,
   "metadata": {},
   "outputs": [
    {
     "data": {
      "text/html": [
       "<div>\n",
       "<style scoped>\n",
       "    .dataframe tbody tr th:only-of-type {\n",
       "        vertical-align: middle;\n",
       "    }\n",
       "\n",
       "    .dataframe tbody tr th {\n",
       "        vertical-align: top;\n",
       "    }\n",
       "\n",
       "    .dataframe thead th {\n",
       "        text-align: right;\n",
       "    }\n",
       "</style>\n",
       "<table border=\"1\" class=\"dataframe\">\n",
       "  <thead>\n",
       "    <tr style=\"text-align: right;\">\n",
       "      <th></th>\n",
       "      <th>DBN</th>\n",
       "      <th>School Name</th>\n",
       "      <th>Number of Test Takers</th>\n",
       "      <th>Critical Reading Mean</th>\n",
       "      <th>Mathematics Mean</th>\n",
       "      <th>Writing Mean</th>\n",
       "    </tr>\n",
       "  </thead>\n",
       "  <tbody>\n",
       "    <tr>\n",
       "      <td>0</td>\n",
       "      <td>01M292</td>\n",
       "      <td>Henry Street School for International Studies</td>\n",
       "      <td>31</td>\n",
       "      <td>391</td>\n",
       "      <td>425</td>\n",
       "      <td>385</td>\n",
       "    </tr>\n",
       "    <tr>\n",
       "      <td>1</td>\n",
       "      <td>01M292</td>\n",
       "      <td>Henry Street School for International Studies</td>\n",
       "      <td>31</td>\n",
       "      <td>391</td>\n",
       "      <td>425</td>\n",
       "      <td>385</td>\n",
       "    </tr>\n",
       "    <tr>\n",
       "      <td>2</td>\n",
       "      <td>01M448</td>\n",
       "      <td>University Neighborhood High School</td>\n",
       "      <td>60</td>\n",
       "      <td>394</td>\n",
       "      <td>419</td>\n",
       "      <td>387</td>\n",
       "    </tr>\n",
       "    <tr>\n",
       "      <td>3</td>\n",
       "      <td>01M450</td>\n",
       "      <td>East Side Community High School</td>\n",
       "      <td>69</td>\n",
       "      <td>418</td>\n",
       "      <td>431</td>\n",
       "      <td>402</td>\n",
       "    </tr>\n",
       "    <tr>\n",
       "      <td>4</td>\n",
       "      <td>01M458</td>\n",
       "      <td>SATELLITE ACADEMY FORSYTH ST</td>\n",
       "      <td>26</td>\n",
       "      <td>385</td>\n",
       "      <td>370</td>\n",
       "      <td>378</td>\n",
       "    </tr>\n",
       "    <tr>\n",
       "      <td>...</td>\n",
       "      <td>...</td>\n",
       "      <td>...</td>\n",
       "      <td>...</td>\n",
       "      <td>...</td>\n",
       "      <td>...</td>\n",
       "      <td>...</td>\n",
       "    </tr>\n",
       "    <tr>\n",
       "      <td>382</td>\n",
       "      <td>32K554</td>\n",
       "      <td>ALL CITY LEADERSHIP SECONDARY</td>\n",
       "      <td>29</td>\n",
       "      <td>394</td>\n",
       "      <td>420</td>\n",
       "      <td>395</td>\n",
       "    </tr>\n",
       "    <tr>\n",
       "      <td>383</td>\n",
       "      <td>32K556</td>\n",
       "      <td>Bushwick Leaders High School for Academic Excel</td>\n",
       "      <td>30</td>\n",
       "      <td>357</td>\n",
       "      <td>345</td>\n",
       "      <td>351</td>\n",
       "    </tr>\n",
       "    <tr>\n",
       "      <td>384</td>\n",
       "      <td>75R025</td>\n",
       "      <td>South Richmond High School</td>\n",
       "      <td>10</td>\n",
       "      <td>407</td>\n",
       "      <td>421</td>\n",
       "      <td>400</td>\n",
       "    </tr>\n",
       "    <tr>\n",
       "      <td>385</td>\n",
       "      <td>76K460</td>\n",
       "      <td>John Jay High School</td>\n",
       "      <td>9</td>\n",
       "      <td>390</td>\n",
       "      <td>381</td>\n",
       "      <td>398</td>\n",
       "    </tr>\n",
       "    <tr>\n",
       "      <td>386</td>\n",
       "      <td>79X490</td>\n",
       "      <td>PHOENIX SCHOOL</td>\n",
       "      <td>7</td>\n",
       "      <td>404</td>\n",
       "      <td>423</td>\n",
       "      <td>416</td>\n",
       "    </tr>\n",
       "  </tbody>\n",
       "</table>\n",
       "<p>387 rows × 6 columns</p>\n",
       "</div>"
      ],
      "text/plain": [
       "        DBN                                       School Name  \\\n",
       "0    01M292    Henry Street School for International Studies    \n",
       "1    01M292    Henry Street School for International Studies    \n",
       "2    01M448              University Neighborhood High School    \n",
       "3    01M450                  East Side Community High School    \n",
       "4    01M458                     SATELLITE ACADEMY FORSYTH ST    \n",
       "..      ...                                               ...   \n",
       "382  32K554                    ALL CITY LEADERSHIP SECONDARY    \n",
       "383  32K556  Bushwick Leaders High School for Academic Excel    \n",
       "384  75R025                       South Richmond High School    \n",
       "385  76K460                             John Jay High School    \n",
       "386  79X490                                   PHOENIX SCHOOL    \n",
       "\n",
       "    Number of Test Takers Critical Reading Mean Mathematics Mean Writing Mean  \n",
       "0                      31                   391              425          385  \n",
       "1                      31                   391              425          385  \n",
       "2                      60                   394              419          387  \n",
       "3                      69                   418              431          402  \n",
       "4                      26                   385              370          378  \n",
       "..                    ...                   ...              ...          ...  \n",
       "382                    29                   394              420          395  \n",
       "383                    30                   357              345          351  \n",
       "384                    10                   407              421          400  \n",
       "385                     9                   390              381          398  \n",
       "386                     7                   404              423          416  \n",
       "\n",
       "[387 rows x 6 columns]"
      ]
     },
     "execution_count": 35,
     "metadata": {},
     "output_type": "execute_result"
    }
   ],
   "source": [
    "pd.DataFrame(dataset)"
   ]
  },
  {
   "cell_type": "code",
   "execution_count": 51,
   "metadata": {},
   "outputs": [],
   "source": [
    "row_name = \"row\"\n",
    "header = pd.DataFrame(dataset).columns\n",
    "for row in pd.DataFrame(dataset).values:\n",
    "    row_rep = \"\"\n",
    "    for key, value in zip(header, row):\n",
    "\n",
    "    break"
   ]
  },
  {
   "cell_type": "code",
   "execution_count": 52,
   "metadata": {},
   "outputs": [
    {
     "name": "stdout",
     "output_type": "stream",
     "text": [
      "<row>\n",
      "\t<dbn>01M292</dbn>\n",
      "\t<school_name>Henry Street School for International Studies </school_name>\n",
      "\t<number_of_test_takers>31</number_of_test_takers>\n",
      "\t<critical_reading_mean>391</critical_reading_mean>\n",
      "\t<mathematics_mean>425</mathematics_mean>\n",
      "\t<writing_mean>385</writing_mean>\n",
      "<row>\n"
     ]
    }
   ],
   "source": [
    "print(row_rep)"
   ]
  },
  {
   "cell_type": "code",
   "execution_count": 53,
   "metadata": {},
   "outputs": [],
   "source": [
    "for key in row:\n",
    "    break"
   ]
  },
  {
   "cell_type": "code",
   "execution_count": 18,
   "metadata": {},
   "outputs": [
    {
     "data": {
      "text/plain": [
       "array(['01M292', 'Henry Street School for International Studies ', '31',\n",
       "       '391', '425', '385'], dtype=object)"
      ]
     },
     "execution_count": 18,
     "metadata": {},
     "output_type": "execute_result"
    }
   ],
   "source": [
    "row"
   ]
  },
  {
   "cell_type": "code",
   "execution_count": 13,
   "metadata": {},
   "outputs": [
    {
     "data": {
      "text/plain": [
       "{'DBN': '01M292',\n",
       " 'School Name': 'Henry Street School for International Studies ',\n",
       " 'Number of Test Takers': '31',\n",
       " 'Critical Reading Mean': '391',\n",
       " 'Mathematics Mean': '425',\n",
       " 'Writing Mean': '385'}"
      ]
     },
     "execution_count": 13,
     "metadata": {},
     "output_type": "execute_result"
    }
   ],
   "source": [
    "dataset[0]"
   ]
  },
  {
   "cell_type": "markdown",
   "metadata": {},
   "source": [
    "## Converting the dataset back to XML"
   ]
  },
  {
   "cell_type": "code",
   "execution_count": 100,
   "metadata": {},
   "outputs": [],
   "source": [
    "def to_xml_from_pandas(dataset, row_name=\"row\", enclosing_attr=\"rows\"):\n",
    "    xml_data = \"\"\n",
    "    header = dataset.columns\n",
    "    for row in dataset.values:\n",
    "        row_rep = f\"<{row_name}>\\t\\n\"\n",
    "        for key, value in zip(header, row):\n",
    "            row_rep = f\"<{row_name}>\\n\\t\"\n",
    "            for key, value in zip(header, row):\n",
    "                key = key.lower().replace(\" \", \"_\")\n",
    "                row_rep+=f\"<{key}>{value}</{key}>\\n\\t\"\n",
    "            row_rep += f\"\\r<{row_name}>\\n\"\n",
    "            xml_data += row_rep\n",
    "    return xml_data"
   ]
  },
  {
   "cell_type": "code",
   "execution_count": 121,
   "metadata": {},
   "outputs": [
    {
     "name": "stdout",
     "output_type": "stream",
     "text": [
      "30.6 ms ± 1.31 ms per loop (mean ± std. dev. of 7 runs, 10 loops each)\n"
     ]
    }
   ],
   "source": [
    "%%timeit\n",
    "xml_dataset_1 = to_xml_from_pandas(pd.DataFrame(dataset))"
   ]
  },
  {
   "cell_type": "code",
   "execution_count": 122,
   "metadata": {},
   "outputs": [],
   "source": [
    "xml_dataset_1 = to_xml_from_pandas(pd.DataFrame(dataset))"
   ]
  },
  {
   "cell_type": "code",
   "execution_count": 102,
   "metadata": {},
   "outputs": [],
   "source": [
    "def to_xml_from_list(dataset, row_name=\"row\", enclosing_attr=\"rows\"):\n",
    "    xml_data = \"\"\n",
    "    header = [\n",
    "        'DBN', 'School Name', 'Number of Test Takers', \n",
    "        'Critical Reading Mean', 'Mathematics Mean', 'Writing Mean'\n",
    "    ]\n",
    "    for row in dataset:\n",
    "        row_rep = f\"<{row_name}>\\t\\n\"\n",
    "        for key, value in zip(header, row):\n",
    "            row_rep = f\"<{row_name}>\\n\\t\"\n",
    "            for key, value in zip(header, row):\n",
    "                key = key.lower().replace(\" \", \"_\")\n",
    "                row_rep+=f\"<{key}>{value}</{key}>\\n\\t\"\n",
    "            row_rep += f\"\\r<{row_name}>\\n\"\n",
    "            xml_data += row_rep\n",
    "    return xml_data"
   ]
  },
  {
   "cell_type": "code",
   "execution_count": 123,
   "metadata": {},
   "outputs": [
    {
     "name": "stdout",
     "output_type": "stream",
     "text": [
      "7.15 ms ± 66.8 µs per loop (mean ± std. dev. of 7 runs, 100 loops each)\n"
     ]
    }
   ],
   "source": [
    "%%timeit\n",
    "xml_dataset_2 = to_xml_from_list(dataset)"
   ]
  },
  {
   "cell_type": "code",
   "execution_count": 133,
   "metadata": {},
   "outputs": [
    {
     "name": "stdout",
     "output_type": "stream",
     "text": [
      "<row>\n",
      "\t<dbn>01M292</dbn>\n",
      "\t<school_name>Henry Street School for International Studies </school_name>\n",
      "\t<number_of_test_takers>31</number_of_test_takers>\n",
      "\t<critical_reading_mean>391</critical_reading_mean>\n",
      "\t<mathematics_mean>425</mathematics_mean>\n",
      "\t<writing_mean>385</writing_mean>\n",
      "<row>\n",
      "<row>\n",
      "\t<dbn>01M292</dbn>\n",
      "\t<school_name>Henry Street School for International Studies </school_name>\n",
      "\t<number_of_test_takers>31</number_of_test_takers>\n",
      "\t<critical_reading_mean>391</critical_reading_mean>\n",
      "\t<mathematics_mean>425</mathematics_mean>\n",
      "\t<writing_mean>385</writing_mean>\n",
      "<row>\n",
      "<row>\n",
      "\t<dbn>01M292</dbn>\n",
      "\t<school_name>Henry Street School for International Studies </school_name>\n",
      "\t<number_of_test_takers>31</number_of_test_takers>\n",
      "\t<critical_reading_mean>391</critical_reading_mean>\n",
      "\t<mathematics_mean>425</mathematics_mean>\n",
      "\t<writing_mean>385</writing_mean>\n",
      "<row>\n",
      "<row>\n",
      "\t<dbn>01M292</dbn>\n",
      "\t<school_name>Henry Street School for International Studies </school_name>\n",
      "\t<number_of_test_takers>31</number_of_t\n"
     ]
    }
   ],
   "source": [
    "print(xml_dataset_1[:1000])"
   ]
  },
  {
   "cell_type": "code",
   "execution_count": 134,
   "metadata": {},
   "outputs": [
    {
     "name": "stdout",
     "output_type": "stream",
     "text": [
      "<row>\n",
      "\t<dbn>01M292</dbn>\n",
      "\t<school_name>Henry Street School for International Studies </school_name>\n",
      "\t<number_of_test_takers>31</number_of_test_takers>\n",
      "\t<critical_reading_mean>391</critical_reading_mean>\n",
      "\t<mathematics_mean>425</mathematics_mean>\n",
      "\t<writing_mean>385</writing_mean>\n",
      "<row>\n",
      "<row>\n",
      "\t<dbn>01M292</dbn>\n",
      "\t<school_name>Henry Street School for International Studies </school_name>\n",
      "\t<number_of_test_takers>31</number_of_test_takers>\n",
      "\t<critical_reading_mean>391</critical_reading_mean>\n",
      "\t<mathematics_mean>425</mathematics_mean>\n",
      "\t<writing_mean>385</writing_mean>\n",
      "<row>\n",
      "<row>\n",
      "\t<dbn>01M292</dbn>\n",
      "\t<school_name>Henry Street School for International Studies </school_name>\n",
      "\t<number_of_test_takers>31</number_of_test_takers>\n",
      "\t<critical_reading_mean>391</critical_reading_mean>\n",
      "\t<mathematics_mean>425</mathematics_mean>\n",
      "\t<writing_mean>385</writing_mean>\n",
      "<row>\n",
      "<row>\n",
      "\t<dbn>01M292</dbn>\n",
      "\t<school_name>Henry Street School for International Studies </school_name>\n",
      "\t<number_of_test_takers>31</number_of_t\n"
     ]
    }
   ],
   "source": [
    "print(xml_dataset_1[:1000])"
   ]
  }
 ],
 "metadata": {
  "kernelspec": {
   "display_name": "Python 3",
   "language": "python",
   "name": "python3"
  },
  "language_info": {
   "codemirror_mode": {
    "name": "ipython",
    "version": 3
   },
   "file_extension": ".py",
   "mimetype": "text/x-python",
   "name": "python",
   "nbconvert_exporter": "python",
   "pygments_lexer": "ipython3",
   "version": "3.7.4"
  }
 },
 "nbformat": 4,
 "nbformat_minor": 4
}
