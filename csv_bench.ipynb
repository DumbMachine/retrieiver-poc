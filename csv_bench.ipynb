{
 "nbformat": 4,
 "nbformat_minor": 2,
 "metadata": {
  "language_info": {
   "name": "python",
   "codemirror_mode": {
    "name": "ipython",
    "version": 3
   },
   "version": "3.7.6-final"
  },
  "orig_nbformat": 2,
  "file_extension": ".py",
  "mimetype": "text/x-python",
  "name": "python",
  "npconvert_exporter": "python",
  "pygments_lexer": "ipython3",
  "version": 3,
  "kernelspec": {
   "name": "python3",
   "display_name": "Python 3"
  }
 },
 "cells": [
  {
   "cell_type": "markdown",
   "metadata": {},
   "source": [
    "# Comparing the read speeds of `csv` and `pandas` python packages"
   ]
  },
  {
   "cell_type": "code",
   "execution_count": 122,
   "metadata": {},
   "outputs": [],
   "source": [
    "import csv\n",
    "import pandas as pd"
   ]
  },
  {
   "cell_type": "markdown",
   "metadata": {},
   "source": [
    "# Speed of reading a csv file having 1000 rows using `csv package`"
   ]
  },
  {
   "cell_type": "code",
   "execution_count": 123,
   "metadata": {},
   "outputs": [
    {
     "output_type": "stream",
     "name": "stdout",
     "text": "Column names are name, department, birthday month\nProcessed 1000 lines.\nCPU times: user 0 ns, sys: 3.4 ms, total: 3.4 ms\nWall time: 2.61 ms\n"
    }
   ],
   "source": [
    "%%time\n",
    "with open('employee_birthday1000.csv') as csv_file:\n",
    "    csv_reader = csv.reader(csv_file, delimiter=',')\n",
    "    line_count = 0\n",
    "    for row in csv_reader:\n",
    "        if line_count == 0:\n",
    "            print(f'Column names are {\", \".join(row)}')\n",
    "            line_count += 1\n",
    "        else:\n",
    "            line_count += 1\n",
    "    print(f'Processed {line_count} lines.')"
   ]
  },
  {
   "cell_type": "markdown",
   "metadata": {},
   "source": [
    "# Speed of reading a csv file having 1000 rows using `pandas package`"
   ]
  },
  {
   "cell_type": "code",
   "execution_count": 124,
   "metadata": {},
   "outputs": [
    {
     "output_type": "stream",
     "name": "stdout",
     "text": "Column names are Index(['name', 'department', 'birthday month'], dtype='object')\nProcessed 999 lines.\nCPU times: user 5.65 ms, sys: 95 µs, total: 5.74 ms\nWall time: 5.17 ms\n"
    }
   ],
   "source": [
    "%%time\n",
    "df = pd.read_csv('employee_birthday1000.csv')\n",
    "print(f'Column names are {df.columns}')\n",
    "print(f'Processed {df.shape[0]} lines.')"
   ]
  },
  {
   "cell_type": "markdown",
   "metadata": {},
   "source": [
    "# Speed of read a csv file having 50k rows using `csv package`"
   ]
  },
  {
   "cell_type": "code",
   "execution_count": 125,
   "metadata": {},
   "outputs": [
    {
     "output_type": "stream",
     "name": "stdout",
     "text": "Column names are name, department, birthday month\nProcessed 53665 lines.\nCPU times: user 38.5 ms, sys: 7.78 ms, total: 46.3 ms\nWall time: 43.5 ms\n"
    }
   ],
   "source": [
    "%%time\n",
    "with open('employee_birthday.csv') as csv_file:\n",
    "    csv_reader = csv.reader(csv_file, delimiter=',')\n",
    "    line_count = 0\n",
    "    for row in csv_reader:\n",
    "        if line_count == 0:\n",
    "            print(f'Column names are {\", \".join(row)}')\n",
    "            line_count += 1\n",
    "        else:\n",
    "            line_count += 1\n",
    "    print(f'Processed {line_count} lines.')\n",
    ""
   ]
  },
  {
   "cell_type": "markdown",
   "metadata": {},
   "source": [
    "# Speed of read a csv file having 50k rows using `pandas package`"
   ]
  },
  {
   "cell_type": "code",
   "execution_count": 126,
   "metadata": {},
   "outputs": [
    {
     "output_type": "stream",
     "name": "stdout",
     "text": "Column names are Index(['name', 'department', 'birthday month'], dtype='object')\nProcessed 53664 lines.\nCPU times: user 22.6 ms, sys: 12.4 ms, total: 35 ms\nWall time: 34.3 ms\n"
    }
   ],
   "source": [
    "%%time\n",
    "df = pd.read_csv('employee_birthday.csv')\n",
    "print(f'Column names are {df.columns}')\n",
    "print(f'Processed {df.shape[0]} lines.')"
   ]
  },
  {
   "cell_type": "markdown",
   "metadata": {},
   "source": [
    "# Comparing the read speeds of `csv` and `pandas` python packages "
   ]
  },
  {
   "cell_type": "markdown",
   "metadata": {},
   "source": [
    "# Speed of writing a csv file having 1000 rows using `csv package`"
   ]
  },
  {
   "cell_type": "code",
   "execution_count": 127,
   "metadata": {},
   "outputs": [
    {
     "output_type": "stream",
     "name": "stdout",
     "text": "CPU times: user 8.01 ms, sys: 0 ns, total: 8.01 ms\nWall time: 7.92 ms\n"
    }
   ],
   "source": [
    "%%time\n",
    "ITR = 1000\n",
    "row = \"john smith,1132 Anywhere Lane Hoboken NJ, 07030,Jan 4\"\n",
    "header = \"name,address,id, date joined\"\n",
    "\n",
    "with open('employee_write_test.csv-csv', 'w') as file:\n",
    "    employee_writer = csv.writer(file, delimiter=',', quotechar='\"', quoting=csv.QUOTE_MINIMAL)\n",
    "\n",
    "    employee_writer.writerow(header.split(','))\n",
    "    for _ in range(ITR):\n",
    "        employee_writer.writerow(row.split(','))    \n",
    ""
   ]
  },
  {
   "cell_type": "markdown",
   "metadata": {},
   "source": [
    "# Speed of writing a csv file having 1000 rows using `pandas package`"
   ]
  },
  {
   "cell_type": "code",
   "execution_count": 128,
   "metadata": {},
   "outputs": [
    {
     "output_type": "stream",
     "name": "stdout",
     "text": "CPU times: user 25.6 ms, sys: 0 ns, total: 25.6 ms\nWall time: 24.5 ms\n"
    }
   ],
   "source": [
    "%%time\n",
    "ITR = 1000\n",
    "row = \"john smith,1132 Anywhere Lane Hoboken NJ, 07030,Jan 4\"\n",
    "header = \"name,address,id, date joined\"\n",
    "\n",
    "data_list = [] + [header.split(',')]\n",
    "for _ in range(ITR):\n",
    "    data_list+=[row.split(',')]\n",
    "\n",
    "pd.DataFrame(data_list[1:], columns=data_list[0]).to_csv('employee_write_test-pandas.csv')"
   ]
  },
  {
   "cell_type": "markdown",
   "metadata": {},
   "source": [
    "# Speed of writing a csv file having 50k rows using `csv package`"
   ]
  },
  {
   "cell_type": "code",
   "execution_count": 129,
   "metadata": {},
   "outputs": [
    {
     "output_type": "stream",
     "name": "stdout",
     "text": "CPU times: user 95.2 ms, sys: 8.06 ms, total: 103 ms\nWall time: 103 ms\n"
    }
   ],
   "source": [
    "%%time\n",
    "ITR = 50000\n",
    "row = \"john smith,1132 Anywhere Lane Hoboken NJ, 07030,Jan 4\"\n",
    "header = \"name,address,id, date joined\"\n",
    "\n",
    "with open('employee_write_test.csv-csv', 'w') as file:\n",
    "    employee_writer = csv.writer(file, delimiter=',', quotechar='\"', quoting=csv.QUOTE_MINIMAL)\n",
    "\n",
    "    employee_writer.writerow(header.split(','))\n",
    "    for _ in range(ITR):\n",
    "        employee_writer.writerow(row.split(','))    \n",
    ""
   ]
  },
  {
   "cell_type": "markdown",
   "metadata": {},
   "source": [
    "# Speed of writing a csv file having 50k rows using `pandas package`"
   ]
  },
  {
   "cell_type": "code",
   "execution_count": 134,
   "metadata": {},
   "outputs": [
    {
     "output_type": "stream",
     "name": "stdout",
     "text": "CPU times: user 202 ms, sys: 20 ms, total: 222 ms\nWall time: 222 ms\n"
    }
   ],
   "source": [
    "%%time\n",
    "ITR = 50000\n",
    "row = \"john smith,1132 Anywhere Lane Hoboken NJ, 07030,Jan 4\"\n",
    "header = \"name,address,id, date joined\"\n",
    "\n",
    "data_list = [] + [header.split(',')]\n",
    "for _ in range(ITR):\n",
    "    data_list+=[row.split(',')]\n",
    "\n",
    "pd.DataFrame(data_list[1:], columns=data_list[0]).to_csv('employee_write_test-pandas.csv')"
   ]
  },
  {
   "cell_type": "code",
   "execution_count": 138,
   "metadata": {},
   "outputs": [],
   "source": [
    "pd.DataFrame(data_list[1:], columns=data_list[0]).to_excel(\"temp.xlsx\")"
   ]
  }
 ]
}